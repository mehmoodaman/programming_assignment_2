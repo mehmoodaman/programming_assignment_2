{
 "cells": [
  {
   "cell_type": "code",
   "execution_count": 1,
   "metadata": {},
   "outputs": [],
   "source": [
    "import os\n",
    "import re\n",
    "import string\n",
    "import numpy as np\n",
    "from collections import Counter\n",
    "from nltk.tokenize import word_tokenize\n",
    "import pickle"
   ]
  },
  {
   "cell_type": "code",
   "execution_count": 2,
   "metadata": {},
   "outputs": [],
   "source": [
    "# Define the emoticon pattern\n",
    "emoticon_pattern = r'[:=;][oO\\-]?[D\\)\\]\\(\\]/\\\\OpP]'"
   ]
  },
  {
   "cell_type": "code",
   "execution_count": 3,
   "metadata": {},
   "outputs": [],
   "source": [
    "# Function to process text\n",
    "def process_text(text):\n",
    "    text = text.lower()\n",
    "    text = re.sub(r'<.*?>', '', text)\n",
    "    words = re.findall(r'\\w+|[' + string.punctuation + ']', text)\n",
    "    return words"
   ]
  },
  {
   "cell_type": "code",
   "execution_count": 4,
   "metadata": {},
   "outputs": [],
   "source": [
    "# Function to create vocabulary\n",
    "def create_vocab(directory):\n",
    "    vocab = Counter()\n",
    "    for path, _, files in os.walk(directory):\n",
    "        for file in files:\n",
    "            with open(os.path.join(path, file), 'r') as f:\n",
    "                text = f.read()\n",
    "                words = process_text(text)\n",
    "                vocab.update(words)\n",
    "    return vocab"
   ]
  },
  {
   "cell_type": "code",
   "execution_count": 5,
   "metadata": {},
   "outputs": [],
   "source": [
    "# Function to load documents\n",
    "def load_documents(directory):\n",
    "    documents = []\n",
    "    for path, _, files in os.walk(directory):\n",
    "        for file in files:\n",
    "            with open(os.path.join(path, file), 'r') as f:\n",
    "                text = f.read()\n",
    "                words = process_text(text)\n",
    "                documents.append(words)\n",
    "    return documents"
   ]
  },
  {
   "cell_type": "code",
   "execution_count": 6,
   "metadata": {},
   "outputs": [],
   "source": [
    "# Function to create n-grams\n",
    "def create_ngrams(documents):\n",
    "    positive_ngrams = []\n",
    "    for doc in documents:\n",
    "        for i in range(len(doc) - 1):\n",
    "            positive_ngrams.append((doc[i], doc[i + 1]))\n",
    "    return positive_ngrams"
   ]
  },
  {
   "cell_type": "code",
   "execution_count": 7,
   "metadata": {},
   "outputs": [],
   "source": [
    "# Function to create negative n-grams\n",
    "def create_negative_samples(positive_ngrams, vocab):\n",
    "    negative_ngrams = []\n",
    "    for first_word, _ in positive_ngrams:\n",
    "        for _ in range(2):  # Create 2 negative samples for each positive n-gram\n",
    "            second_word = np.random.choice(list(vocab.keys()))\n",
    "            while second_word == first_word:\n",
    "                second_word = np.random.choice(list(vocab.keys()))\n",
    "            negative_ngrams.append((first_word, second_word))\n",
    "    return negative_ngrams"
   ]
  },
  {
   "cell_type": "code",
   "execution_count": 8,
   "metadata": {},
   "outputs": [],
   "source": [
    "# Convert n-grams to feature vectors\n",
    "def ngrams_to_features(ngrams, vocab):\n",
    "    X = []\n",
    "    for first_word, second_word in ngrams:\n",
    "        if first_word in vocab and second_word in vocab:\n",
    "            feature_vector = np.zeros(len(vocab))\n",
    "            feature_vector[vocab[first_word]] = 1\n",
    "            feature_vector[vocab[second_word]] = 1\n",
    "            X.append(feature_vector)\n",
    "    return np.array(X)"
   ]
  },
  {
   "cell_type": "code",
   "execution_count": 9,
   "metadata": {},
   "outputs": [],
   "source": [
    "# Define sigmoid and MSE functions\n",
    "def sigmoid(x):\n",
    "    return 1 / (1 + np.exp(-x))\n",
    "\n",
    "def sigmoid_derivative(x):\n",
    "    return x * (1 - x)\n",
    "\n",
    "def mse(y_true, y_pred):\n",
    "    return np.mean(np.square(y_true - y_pred))\n",
    "\n",
    "def mse_derivative(y_true, y_pred):\n",
    "    return 2 * (y_pred - y_true) / y_true.size"
   ]
  },
  {
   "cell_type": "code",
   "execution_count": 10,
   "metadata": {},
   "outputs": [],
   "source": [
    "# Define the Neural Network class\n",
    "class NeuralNetwork:\n",
    "    def __init__(self, input_size, hidden_size, output_size):\n",
    "        self.W1 = np.random.randn(hidden_size, input_size)\n",
    "        self.b1 = np.zeros((hidden_size, 1))\n",
    "        self.W2 = np.random.randn(output_size, hidden_size)\n",
    "        self.b2 = np.zeros((output_size, 1))\n",
    "\n",
    "    def forward(self, X):\n",
    "        self.Z1 = np.dot(self.W1, X) + self.b1\n",
    "        self.A1 = sigmoid(self.Z1)\n",
    "        self.Z2 = np.dot(self.W2, self.A1) + self.b2\n",
    "        self.A2 = sigmoid(self.Z2)\n",
    "        return self.A2\n",
    "\n",
    "    def backward(self, X, Y, output, learning_rate=0.0001):\n",
    "        dZ2 = mse_derivative(Y, output) * sigmoid_derivative(output)\n",
    "        dW2 = np.dot(dZ2, self.A1.T)\n",
    "        db2 = np.sum(dZ2, axis=1, keepdims=True)\n",
    "        dZ1 = np.dot(self.W2.T, dZ2) * sigmoid_derivative(self.A1)\n",
    "        dW1 = np.dot(dZ1, X.T)\n",
    "        db1 = np.sum(dZ1, axis=1, keepdims=True)\n",
    "        \n",
    "        self.W1 -= learning_rate * dW1\n",
    "        self.b1 -= learning_rate * db1\n",
    "        self.W2 -= learning_rate * dW2\n",
    "        self.b2 -= learning_rate * db2\n",
    "\n",
    "    def train(self, X, Y, epochs):\n",
    "        for epoch in range(epochs):\n",
    "            output = self.forward(X)\n",
    "            loss = mse(Y, output)\n",
    "            print(f'Epoch {epoch}, Loss: {loss}')\n",
    "            self.backward(X, Y, output)\n",
    "\n",
    "    def predict(self, X):\n",
    "        output = self.forward(X)\n",
    "        return (output > 0.5).astype(int)"
   ]
  },
  {
   "cell_type": "code",
   "execution_count": 11,
   "metadata": {},
   "outputs": [],
   "source": [
    "positive_train_dir = '/Users/amanmehmood/AIT 726/programming_assignment_2/data/tweet/train/positive'"
   ]
  },
  {
   "cell_type": "code",
   "execution_count": 12,
   "metadata": {},
   "outputs": [],
   "source": [
    "documents = load_documents(positive_train_dir)"
   ]
  },
  {
   "cell_type": "code",
   "execution_count": 13,
   "metadata": {},
   "outputs": [],
   "source": [
    "vocab = create_vocab(positive_train_dir)"
   ]
  },
  {
   "cell_type": "code",
   "execution_count": 14,
   "metadata": {},
   "outputs": [],
   "source": [
    "vocab = {word: idx for idx, (word, _) in enumerate(vocab.items())}"
   ]
  },
  {
   "cell_type": "code",
   "execution_count": 15,
   "metadata": {},
   "outputs": [],
   "source": [
    "positive_ngrams = create_ngrams(documents)\n",
    "negative_ngrams = create_negative_samples(positive_ngrams, vocab)"
   ]
  },
  {
   "cell_type": "code",
   "execution_count": 16,
   "metadata": {},
   "outputs": [],
   "source": [
    "positive_features = ngrams_to_features(positive_ngrams, vocab)\n",
    "negative_features = ngrams_to_features(negative_ngrams, vocab)"
   ]
  },
  {
   "cell_type": "code",
   "execution_count": 17,
   "metadata": {},
   "outputs": [],
   "source": [
    "positive_labels = np.ones((len(positive_features), 1))\n",
    "negative_labels = np.zeros((len(negative_features), 1))"
   ]
  },
  {
   "cell_type": "code",
   "execution_count": 18,
   "metadata": {},
   "outputs": [],
   "source": [
    "X_train = np.vstack((positive_features, negative_features)).T\n",
    "Y_train = np.vstack((positive_labels, negative_labels)).T"
   ]
  },
  {
   "cell_type": "code",
   "execution_count": 19,
   "metadata": {},
   "outputs": [],
   "source": [
    "input_size = X_train.shape[0]\n",
    "hidden_size = 20\n",
    "output_size = 1"
   ]
  },
  {
   "cell_type": "code",
   "execution_count": 20,
   "metadata": {},
   "outputs": [
    {
     "name": "stdout",
     "output_type": "stream",
     "text": [
      "Epoch 0, Loss: 0.6296232039137326\n",
      "Epoch 1, Loss: 0.6296225751883591\n",
      "Epoch 2, Loss: 0.6296219464448214\n",
      "Epoch 3, Loss: 0.6296213176831188\n",
      "Epoch 4, Loss: 0.6296206889032507\n",
      "Epoch 5, Loss: 0.6296200601052162\n",
      "Epoch 6, Loss: 0.6296194312890148\n",
      "Epoch 7, Loss: 0.6296188024546456\n",
      "Epoch 8, Loss: 0.6296181736021083\n",
      "Epoch 9, Loss: 0.6296175447314017\n",
      "Epoch 10, Loss: 0.6296169158425255\n",
      "Epoch 11, Loss: 0.6296162869354787\n",
      "Epoch 12, Loss: 0.6296156580102608\n",
      "Epoch 13, Loss: 0.6296150290668712\n",
      "Epoch 14, Loss: 0.6296144001053089\n",
      "Epoch 15, Loss: 0.6296137711255734\n",
      "Epoch 16, Loss: 0.6296131421276638\n",
      "Epoch 17, Loss: 0.6296125131115798\n",
      "Epoch 18, Loss: 0.6296118840773206\n",
      "Epoch 19, Loss: 0.6296112550248851\n",
      "Epoch 20, Loss: 0.6296106259542729\n",
      "Epoch 21, Loss: 0.6296099968654834\n",
      "Epoch 22, Loss: 0.6296093677585157\n",
      "Epoch 23, Loss: 0.6296087386333694\n",
      "Epoch 24, Loss: 0.6296081094900432\n",
      "Epoch 25, Loss: 0.6296074803285372\n",
      "Epoch 26, Loss: 0.62960685114885\n",
      "Epoch 27, Loss: 0.6296062219509813\n",
      "Epoch 28, Loss: 0.6296055927349303\n",
      "Epoch 29, Loss: 0.6296049635006964\n",
      "Epoch 30, Loss: 0.6296043342482788\n",
      "Epoch 31, Loss: 0.6296037049776767\n",
      "Epoch 32, Loss: 0.6296030756888896\n",
      "Epoch 33, Loss: 0.6296024463819166\n",
      "Epoch 34, Loss: 0.6296018170567573\n",
      "Epoch 35, Loss: 0.6296011877134107\n",
      "Epoch 36, Loss: 0.6296005583518764\n",
      "Epoch 37, Loss: 0.6295999289721536\n",
      "Epoch 38, Loss: 0.6295992995742412\n",
      "Epoch 39, Loss: 0.629598670158139\n",
      "Epoch 40, Loss: 0.6295980407238463\n",
      "Epoch 41, Loss: 0.629597411271362\n",
      "Epoch 42, Loss: 0.629596781800686\n",
      "Epoch 43, Loss: 0.629596152311817\n",
      "Epoch 44, Loss: 0.6295955228047544\n",
      "Epoch 45, Loss: 0.6295948932794978\n",
      "Epoch 46, Loss: 0.6295942637360464\n",
      "Epoch 47, Loss: 0.6295936341743996\n",
      "Epoch 48, Loss: 0.6295930045945565\n",
      "Epoch 49, Loss: 0.6295923749965163\n",
      "Epoch 50, Loss: 0.6295917453802787\n",
      "Epoch 51, Loss: 0.6295911157458426\n",
      "Epoch 52, Loss: 0.6295904860932077\n",
      "Epoch 53, Loss: 0.6295898564223729\n",
      "Epoch 54, Loss: 0.6295892267333376\n",
      "Epoch 55, Loss: 0.6295885970261014\n",
      "Epoch 56, Loss: 0.6295879673006632\n",
      "Epoch 57, Loss: 0.6295873375570227\n",
      "Epoch 58, Loss: 0.6295867077951789\n",
      "Epoch 59, Loss: 0.6295860780151311\n",
      "Epoch 60, Loss: 0.6295854482168788\n",
      "Epoch 61, Loss: 0.6295848184004212\n",
      "Epoch 62, Loss: 0.6295841885657576\n",
      "Epoch 63, Loss: 0.6295835587128873\n",
      "Epoch 64, Loss: 0.6295829288418096\n",
      "Epoch 65, Loss: 0.6295822989525239\n",
      "Epoch 66, Loss: 0.6295816690450292\n",
      "Epoch 67, Loss: 0.6295810391193252\n",
      "Epoch 68, Loss: 0.629580409175411\n",
      "Epoch 69, Loss: 0.6295797792132859\n",
      "Epoch 70, Loss: 0.6295791492329492\n",
      "Epoch 71, Loss: 0.6295785192344002\n",
      "Epoch 72, Loss: 0.6295778892176382\n",
      "Epoch 73, Loss: 0.6295772591826627\n",
      "Epoch 74, Loss: 0.6295766291294728\n",
      "Epoch 75, Loss: 0.6295759990580677\n",
      "Epoch 76, Loss: 0.6295753689684469\n",
      "Epoch 77, Loss: 0.6295747388606097\n",
      "Epoch 78, Loss: 0.6295741087345552\n",
      "Epoch 79, Loss: 0.6295734785902829\n",
      "Epoch 80, Loss: 0.629572848427792\n",
      "Epoch 81, Loss: 0.629572218247082\n",
      "Epoch 82, Loss: 0.6295715880481519\n",
      "Epoch 83, Loss: 0.6295709578310013\n",
      "Epoch 84, Loss: 0.6295703275956291\n",
      "Epoch 85, Loss: 0.6295696973420349\n",
      "Epoch 86, Loss: 0.6295690670702182\n",
      "Epoch 87, Loss: 0.6295684367801777\n",
      "Epoch 88, Loss: 0.6295678064719133\n",
      "Epoch 89, Loss: 0.629567176145424\n",
      "Epoch 90, Loss: 0.6295665458007093\n",
      "Epoch 91, Loss: 0.6295659154377682\n",
      "Epoch 92, Loss: 0.6295652850566001\n",
      "Epoch 93, Loss: 0.6295646546572045\n",
      "Epoch 94, Loss: 0.6295640242395805\n",
      "Epoch 95, Loss: 0.6295633938037275\n",
      "Epoch 96, Loss: 0.6295627633496447\n",
      "Epoch 97, Loss: 0.6295621328773315\n",
      "Epoch 98, Loss: 0.6295615023867872\n",
      "Epoch 99, Loss: 0.629560871878011\n"
     ]
    }
   ],
   "source": [
    "nn = NeuralNetwork(input_size, hidden_size, output_size)\n",
    "nn.train(X_train, Y_train, epochs=100)"
   ]
  },
  {
   "cell_type": "code",
   "execution_count": 25,
   "metadata": {},
   "outputs": [],
   "source": [
    "with open('C:\\\\Users\\\\AMEHMOOD\\\\Documents\\\\Repos\\\\programming_assignment_2\\\\models\\\\trained_lm_nn.pkl', 'wb') as f:\n",
    "    pickle.dump(nn, f)"
   ]
  },
  {
   "cell_type": "code",
   "execution_count": 21,
   "metadata": {},
   "outputs": [],
   "source": [
    "positive_test_dir = '/Users/amanmehmood/AIT 726/programming_assignment_2/data/tweet/test/positive'"
   ]
  },
  {
   "cell_type": "code",
   "execution_count": 22,
   "metadata": {},
   "outputs": [],
   "source": [
    "test_documents = load_documents(positive_test_dir)"
   ]
  },
  {
   "cell_type": "code",
   "execution_count": 23,
   "metadata": {},
   "outputs": [],
   "source": [
    "test_positive_ngrams = create_ngrams(test_documents)\n",
    "test_negative_ngrams = create_negative_samples(test_positive_ngrams, vocab)\n",
    "\n",
    "test_positive_features = ngrams_to_features(test_positive_ngrams, vocab)\n",
    "test_negative_features = ngrams_to_features(test_negative_ngrams, vocab)\n",
    "\n",
    "test_positive_labels = np.ones((len(test_positive_features), 1))\n",
    "test_negative_labels = np.zeros((len(test_negative_features), 1))\n",
    "\n",
    "X_test = np.vstack((test_positive_features, test_negative_features)).T\n",
    "Y_test = np.vstack((test_positive_labels, test_negative_labels)).T"
   ]
  },
  {
   "cell_type": "code",
   "execution_count": 24,
   "metadata": {},
   "outputs": [],
   "source": [
    "predictions = nn.predict(X_test)\n",
    "accuracy = np.mean(predictions == Y_test) * 100"
   ]
  },
  {
   "cell_type": "code",
   "execution_count": 26,
   "metadata": {},
   "outputs": [],
   "source": [
    "with open('/Users/amanmehmood/AIT 726/programming_assignment_2/reports/lm_evaluation.log', 'w') as f:\n",
    "    f.write(f'Accuracy: {accuracy}\\n')"
   ]
  },
  {
   "cell_type": "code",
   "execution_count": null,
   "metadata": {},
   "outputs": [],
   "source": []
  }
 ],
 "metadata": {
  "kernelspec": {
   "display_name": "programming_assignment_2",
   "language": "python",
   "name": "python3"
  },
  "language_info": {
   "codemirror_mode": {
    "name": "ipython",
    "version": 3
   },
   "file_extension": ".py",
   "mimetype": "text/x-python",
   "name": "python",
   "nbconvert_exporter": "python",
   "pygments_lexer": "ipython3",
   "version": "3.10.14"
  }
 },
 "nbformat": 4,
 "nbformat_minor": 2
}
