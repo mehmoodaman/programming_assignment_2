{
 "cells": [
  {
   "cell_type": "code",
   "execution_count": null,
   "metadata": {},
   "outputs": [],
   "source": [
    "import os\n",
    "import re\n",
    "import string\n",
    "import nltk\n",
    "from nltk.corpus import stopwords\n",
    "from nltk.stem.porter import PorterStemmer\n",
    "from collections import Counter\n",
    "import math"
   ]
  },
  {
   "cell_type": "code",
   "execution_count": null,
   "metadata": {},
   "outputs": [],
   "source": [
    "nltk.download('stopwords')"
   ]
  },
  {
   "cell_type": "code",
   "execution_count": null,
   "metadata": {},
   "outputs": [],
   "source": [
    "stemmer = PorterStemmer()\n",
    "\n",
    "stop_words = set(stopwords.words('english'))\n",
    "\n",
    "emoticon_pattern = r'[:=;][oO\\-]?[D\\)\\]\\(\\]/\\\\OpP]'"
   ]
  },
  {
   "cell_type": "code",
   "execution_count": null,
   "metadata": {},
   "outputs": [],
   "source": [
    "def process_text(text):\n",
    "    text = text.lower()\n",
    "    text = re.sub(r'<.*?>', '', text)\n",
    "    \n",
    "    words = re.split(r'\\W+', text)\n",
    "    words = [stemmer.stem(word) for word in words if word not in string.punctuation]\n",
    "    words = [word for word in words if word not in stop_words and not re.match(emoticon_pattern, word)]\n",
    "\n",
    "    return words"
   ]
  },
  {
   "cell_type": "code",
   "execution_count": null,
   "metadata": {},
   "outputs": [],
   "source": [
    "def create_vocab(directory):\n",
    "    vocab = Counter()\n",
    "\n",
    "    for path, _, files in os.walk(directory):\n",
    "        for file in files:\n",
    "            with open(os.path.join(path, file), 'r') as f:\n",
    "                text = f.read()\n",
    "                words = process_text(text)\n",
    "                vocab.update(words)\n",
    "\n",
    "    return vocab"
   ]
  },
  {
   "cell_type": "code",
   "execution_count": null,
   "metadata": {},
   "outputs": [],
   "source": [
    "vocab = create_vocab('/Users/amanmehmood/AIT 726/programming_assignment_2/data/raw/tweet/train')"
   ]
  },
  {
   "cell_type": "code",
   "execution_count": null,
   "metadata": {},
   "outputs": [],
   "source": [
    "def calculate_tf(document_words, vocab):\n",
    "    tf = dict.fromkeys(vocab, 0)\n",
    "    word_count = Counter(document_words)\n",
    "\n",
    "    for word, count in word_count.items():\n",
    "        if word in vocab:\n",
    "            tf[word] = count / len(document_words)\n",
    "\n",
    "    return tf"
   ]
  },
  {
   "cell_type": "code",
   "execution_count": null,
   "metadata": {},
   "outputs": [],
   "source": [
    "def calculate_idf(documents, vocab):\n",
    "    N = len(documents)\n",
    "    idf = dict.fromkeys(vocab, 0)\n",
    "\n",
    "    for document in documents:\n",
    "        for word in vocab:\n",
    "            if word in document:\n",
    "                idf[word] += 1\n",
    "    \n",
    "    for word in vocab:\n",
    "        idf[word] = math.log(N / float(idf[word]))\n",
    "        \n",
    "    return idf"
   ]
  },
  {
   "cell_type": "code",
   "execution_count": null,
   "metadata": {},
   "outputs": [],
   "source": [
    "def calculate_tf_idf(tf, idf, vocab):\n",
    "    tf_idf = dict.fromkeys(vocab, 0)\n",
    "\n",
    "    for word in vocab:\n",
    "        tf_idf[word] = tf[word] * idf[word]\n",
    "        \n",
    "    return tf_idf"
   ]
  },
  {
   "cell_type": "code",
   "execution_count": null,
   "metadata": {},
   "outputs": [],
   "source": [
    "def load_documents(directory):\n",
    "    documents = []\n",
    "    \n",
    "    for path, _, files in os.walk(directory):\n",
    "        for file in files:\n",
    "            with open(os.path.join(path, file), 'r') as f:\n",
    "                text = f.read()\n",
    "                words = process_text(text)\n",
    "                documents.append(words)\n",
    "                \n",
    "    return documents"
   ]
  },
  {
   "cell_type": "code",
   "execution_count": null,
   "metadata": {},
   "outputs": [],
   "source": [
    "documents = load_documents('/Users/amanmehmood/AIT 726/programming_assignment_2/data/raw/tweet/train')"
   ]
  },
  {
   "cell_type": "code",
   "execution_count": null,
   "metadata": {},
   "outputs": [],
   "source": [
    "tfs = [calculate_tf(document, vocab) for document in documents]\n",
    "\n",
    "idf = calculate_idf(documents, vocab)\n",
    "\n",
    "tf_idfs = [calculate_tf_idf(tf, idf, vocab) for tf in tfs]"
   ]
  }
 ],
 "metadata": {
  "kernelspec": {
   "display_name": "programming_assignment_2",
   "language": "python",
   "name": "python3"
  },
  "language_info": {
   "codemirror_mode": {
    "name": "ipython",
    "version": 3
   },
   "file_extension": ".py",
   "mimetype": "text/x-python",
   "name": "python",
   "nbconvert_exporter": "python",
   "pygments_lexer": "ipython3",
   "version": "3.10.14"
  }
 },
 "nbformat": 4,
 "nbformat_minor": 2
}
