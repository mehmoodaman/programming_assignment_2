{
 "cells": [
  {
   "cell_type": "code",
   "execution_count": 56,
   "metadata": {},
   "outputs": [],
   "source": [
    "import os\n",
    "import re\n",
    "import string\n",
    "import nltk\n",
    "from nltk.corpus import stopwords\n",
    "from nltk.stem.porter import PorterStemmer\n",
    "from collections import Counter\n",
    "import math\n",
    "import numpy as np\n",
    "from sklearn.metrics import confusion_matrix, accuracy_score\n",
    "import pickle"
   ]
  },
  {
   "cell_type": "code",
   "execution_count": 26,
   "metadata": {},
   "outputs": [
    {
     "name": "stderr",
     "output_type": "stream",
     "text": [
      "[nltk_data] Error loading stopwords: <urlopen error [Errno 11002]\n",
      "[nltk_data]     getaddrinfo failed>\n"
     ]
    },
    {
     "data": {
      "text/plain": [
       "False"
      ]
     },
     "execution_count": 26,
     "metadata": {},
     "output_type": "execute_result"
    }
   ],
   "source": [
    "nltk.download('stopwords')"
   ]
  },
  {
   "cell_type": "code",
   "execution_count": 27,
   "metadata": {},
   "outputs": [],
   "source": [
    "stemmer = PorterStemmer()\n",
    "\n",
    "stop_words = set(stopwords.words('english'))\n",
    "\n",
    "emoticon_pattern = r'[:=;][oO\\-]?[D\\)\\]\\(\\]/\\\\OpP]'"
   ]
  },
  {
   "cell_type": "code",
   "execution_count": 28,
   "metadata": {},
   "outputs": [],
   "source": [
    "def process_text(text):\n",
    "    text = text.lower()\n",
    "    text = re.sub(r'<.*?>', '', text)\n",
    "    \n",
    "    words = re.split(r'\\W+', text)\n",
    "    words = [stemmer.stem(word) for word in words if word not in string.punctuation]\n",
    "    words = [word for word in words if word not in stop_words and not re.match(emoticon_pattern, word)]\n",
    "\n",
    "    return words"
   ]
  },
  {
   "cell_type": "code",
   "execution_count": 29,
   "metadata": {},
   "outputs": [],
   "source": [
    "def create_vocab(directory):\n",
    "    vocab = Counter()\n",
    "\n",
    "    for path, _, files in os.walk(directory):\n",
    "        for file in files:\n",
    "            with open(os.path.join(path, file), 'r') as f:\n",
    "                text = f.read()\n",
    "                words = process_text(text)\n",
    "                vocab.update(words)\n",
    "\n",
    "    return vocab"
   ]
  },
  {
   "cell_type": "code",
   "execution_count": 30,
   "metadata": {},
   "outputs": [],
   "source": [
    "vocab = create_vocab('C:\\\\Users\\\\AMEHMOOD\\\\Documents\\\\Repos\\\\programming_assignment_2\\\\data\\\\raw\\\\tweet\\\\train')"
   ]
  },
  {
   "cell_type": "code",
   "execution_count": 31,
   "metadata": {},
   "outputs": [],
   "source": [
    "def calculate_tf(document_words, vocab):\n",
    "    tf = dict.fromkeys(vocab, 0)\n",
    "    word_count = Counter(document_words)\n",
    "\n",
    "    for word, count in word_count.items():\n",
    "        if word in vocab:\n",
    "            tf[word] = count / len(document_words)\n",
    "\n",
    "    return tf"
   ]
  },
  {
   "cell_type": "code",
   "execution_count": 32,
   "metadata": {},
   "outputs": [],
   "source": [
    "def calculate_idf(documents, vocab):\n",
    "    N = len(documents)\n",
    "    idf = dict.fromkeys(vocab, 0)\n",
    "\n",
    "    for document in documents:\n",
    "        for word in vocab:\n",
    "            if word in document:\n",
    "                idf[word] += 1\n",
    "    \n",
    "    for word in vocab:\n",
    "        idf[word] = math.log(N / float(idf[word]))\n",
    "        \n",
    "    return idf"
   ]
  },
  {
   "cell_type": "code",
   "execution_count": 33,
   "metadata": {},
   "outputs": [],
   "source": [
    "def calculate_tf_idf(tf, idf, vocab):\n",
    "    tf_idf = dict.fromkeys(vocab, 0)\n",
    "\n",
    "    for word in vocab:\n",
    "        tf_idf[word] = tf[word] * idf[word]\n",
    "        \n",
    "    return tf_idf"
   ]
  },
  {
   "cell_type": "code",
   "execution_count": 34,
   "metadata": {},
   "outputs": [],
   "source": [
    "def load_documents(directory):\n",
    "    documents = []\n",
    "    \n",
    "    for path, _, files in os.walk(directory):\n",
    "        for file in files:\n",
    "            with open(os.path.join(path, file), 'r') as f:\n",
    "                text = f.read()\n",
    "                words = process_text(text)\n",
    "                documents.append(words)\n",
    "                \n",
    "    return documents"
   ]
  },
  {
   "cell_type": "code",
   "execution_count": 35,
   "metadata": {},
   "outputs": [],
   "source": [
    "documents = load_documents('C:\\\\Users\\\\AMEHMOOD\\\\Documents\\\\Repos\\\\programming_assignment_2\\\\data\\\\raw\\\\tweet\\\\train')"
   ]
  },
  {
   "cell_type": "code",
   "execution_count": 36,
   "metadata": {},
   "outputs": [],
   "source": [
    "tfs = [calculate_tf(document, vocab) for document in documents]\n",
    "\n",
    "idf = calculate_idf(documents, vocab)\n",
    "\n",
    "tf_idfs = [calculate_tf_idf(tf, idf, vocab) for tf in tfs]"
   ]
  },
  {
   "cell_type": "code",
   "execution_count": 37,
   "metadata": {},
   "outputs": [],
   "source": [
    "def sigmoid(x):\n",
    "    return 1 / (1 + np.exp(-x))\n",
    "\n",
    "def sigmoid_derivative(x):\n",
    "    return x * (1 - x)\n",
    "\n",
    "def mse(y_true, y_pred):\n",
    "    return np.mean(np.square(y_true - y_pred))\n",
    "\n",
    "def mse_derivative(y_true, y_pred):\n",
    "    return 2 * (y_pred - y_true) / y_true.size"
   ]
  },
  {
   "cell_type": "code",
   "execution_count": 48,
   "metadata": {},
   "outputs": [],
   "source": [
    "class NeuralNetwork:\n",
    "    def __init__(self, input_size, hidden_size, output_size):\n",
    "        self.W1 = np.random.randn(hidden_size, input_size)\n",
    "        self.b1 = np.zeros((hidden_size, 1))\n",
    "        self.W2 = np.random.randn(output_size, hidden_size)\n",
    "        self.b2 = np.zeros((output_size, 1))\n",
    "\n",
    "    def forward(self, X):\n",
    "        self.Z1 = np.dot(self.W1, X) + self.b1\n",
    "        self.A1 = sigmoid(self.Z1)\n",
    "        self.Z2 = np.dot(self.W2, self.A1) + self.b2\n",
    "        self.A2 = sigmoid(self.Z2)\n",
    "        return self.A2\n",
    "\n",
    "    def backward(self, X, Y, output, learning_rate=0.0001):\n",
    "        dZ2 = mse_derivative(Y, output) * sigmoid_derivative(output)\n",
    "        dW2 = np.dot(dZ2, self.A1.T)\n",
    "        db2 = np.sum(dZ2, axis=1, keepdims=True)\n",
    "        dZ1 = np.dot(self.W2.T, dZ2) * sigmoid_derivative(self.A1)\n",
    "        dW1 = np.dot(dZ1, X.T)\n",
    "        db1 = np.sum(dZ1, axis=1, keepdims=True)\n",
    "        \n",
    "        self.W1 -= learning_rate * dW1\n",
    "        self.b1 -= learning_rate * db1\n",
    "        self.W2 -= learning_rate * dW2\n",
    "        self.b2 -= learning_rate * db2\n",
    "\n",
    "    def train(self, X, Y, epochs):\n",
    "        for epoch in range(epochs):\n",
    "            output = self.forward(X)\n",
    "            loss = mse(Y, output)\n",
    "            print(f'Epoch {epoch}, Loss: {loss}')\n",
    "            self.backward(X, Y, output)\n",
    "\n",
    "    def predict(self, X):\n",
    "        output = self.forward(X)\n",
    "        return (output > 0.5).astype(int)"
   ]
  },
  {
   "cell_type": "code",
   "execution_count": 49,
   "metadata": {},
   "outputs": [
    {
     "name": "stdout",
     "output_type": "stream",
     "text": [
      "Epoch 0, Loss: 0.2912259491932207\n",
      "Epoch 1, Loss: 0.29122582938843217\n",
      "Epoch 2, Loss: 0.29122570959089533\n",
      "Epoch 3, Loss: 0.29122558980060953\n",
      "Epoch 4, Loss: 0.29122547001757426\n",
      "Epoch 5, Loss: 0.29122535024178886\n",
      "Epoch 6, Loss: 0.2912252304732529\n",
      "Epoch 7, Loss: 0.2912251107119658\n",
      "Epoch 8, Loss: 0.29122499095792675\n",
      "Epoch 9, Loss: 0.2912248712111354\n",
      "Epoch 10, Loss: 0.29122475147159116\n",
      "Epoch 11, Loss: 0.29122463173929347\n",
      "Epoch 12, Loss: 0.29122451201424154\n",
      "Epoch 13, Loss: 0.2912243922964351\n",
      "Epoch 14, Loss: 0.29122427258587336\n",
      "Epoch 15, Loss: 0.29122415288255593\n",
      "Epoch 16, Loss: 0.2912240331864821\n",
      "Epoch 17, Loss: 0.2912239134976513\n",
      "Epoch 18, Loss: 0.29122379381606306\n",
      "Epoch 19, Loss: 0.2912236741417166\n",
      "Epoch 20, Loss: 0.2912235544746116\n",
      "Epoch 21, Loss: 0.2912234348147475\n",
      "Epoch 22, Loss: 0.29122331516212346\n",
      "Epoch 23, Loss: 0.29122319551673903\n",
      "Epoch 24, Loss: 0.2912230758785937\n",
      "Epoch 25, Loss: 0.29122295624768685\n",
      "Epoch 26, Loss: 0.29122283662401793\n",
      "Epoch 27, Loss: 0.29122271700758634\n",
      "Epoch 28, Loss: 0.2912225973983916\n",
      "Epoch 29, Loss: 0.291222477796433\n",
      "Epoch 30, Loss: 0.29122235820171005\n",
      "Epoch 31, Loss: 0.29122223861422214\n",
      "Epoch 32, Loss: 0.2912221190339687\n",
      "Epoch 33, Loss: 0.29122199946094923\n",
      "Epoch 34, Loss: 0.291221879895163\n",
      "Epoch 35, Loss: 0.2912217603366097\n",
      "Epoch 36, Loss: 0.29122164078528845\n",
      "Epoch 37, Loss: 0.2912215212411989\n",
      "Epoch 38, Loss: 0.2912214017043404\n",
      "Epoch 39, Loss: 0.29122128217471244\n",
      "Epoch 40, Loss: 0.29122116265231435\n",
      "Epoch 41, Loss: 0.2912210431371456\n",
      "Epoch 42, Loss: 0.2912209236292056\n",
      "Epoch 43, Loss: 0.2912208041284939\n",
      "Epoch 44, Loss: 0.2912206846350098\n",
      "Epoch 45, Loss: 0.2912205651487526\n",
      "Epoch 46, Loss: 0.29122044566972205\n",
      "Epoch 47, Loss: 0.2912203261979174\n",
      "Epoch 48, Loss: 0.29122020673333804\n",
      "Epoch 49, Loss: 0.29122008727598353\n",
      "Epoch 50, Loss: 0.2912199678258532\n",
      "Epoch 51, Loss: 0.2912198483829464\n",
      "Epoch 52, Loss: 0.29121972894726283\n",
      "Epoch 53, Loss: 0.29121960951880166\n",
      "Epoch 54, Loss: 0.29121949009756243\n",
      "Epoch 55, Loss: 0.2912193706835446\n",
      "Epoch 56, Loss: 0.2912192512767474\n",
      "Epoch 57, Loss: 0.29121913187717063\n",
      "Epoch 58, Loss: 0.29121901248481336\n",
      "Epoch 59, Loss: 0.2912188930996752\n",
      "Epoch 60, Loss: 0.2912187737217556\n",
      "Epoch 61, Loss: 0.29121865435105376\n",
      "Epoch 62, Loss: 0.29121853498756944\n",
      "Epoch 63, Loss: 0.29121841563130185\n",
      "Epoch 64, Loss: 0.29121829628225054\n",
      "Epoch 65, Loss: 0.2912181769404148\n",
      "Epoch 66, Loss: 0.2912180576057941\n",
      "Epoch 67, Loss: 0.291217938278388\n",
      "Epoch 68, Loss: 0.29121781895819576\n",
      "Epoch 69, Loss: 0.29121769964521693\n",
      "Epoch 70, Loss: 0.29121758033945094\n",
      "Epoch 71, Loss: 0.29121746104089713\n",
      "Epoch 72, Loss: 0.291217341749555\n",
      "Epoch 73, Loss: 0.2912172224654239\n",
      "Epoch 74, Loss: 0.29121710318850336\n",
      "Epoch 75, Loss: 0.2912169839187928\n",
      "Epoch 76, Loss: 0.2912168646562916\n",
      "Epoch 77, Loss: 0.2912167454009992\n",
      "Epoch 78, Loss: 0.29121662615291505\n",
      "Epoch 79, Loss: 0.29121650691203854\n",
      "Epoch 80, Loss: 0.29121638767836916\n",
      "Epoch 81, Loss: 0.2912162684519063\n",
      "Epoch 82, Loss: 0.29121614923264943\n",
      "Epoch 83, Loss: 0.2912160300205979\n",
      "Epoch 84, Loss: 0.2912159108157512\n",
      "Epoch 85, Loss: 0.29121579161810884\n",
      "Epoch 86, Loss: 0.2912156724276701\n",
      "Epoch 87, Loss: 0.29121555324443443\n",
      "Epoch 88, Loss: 0.2912154340684014\n",
      "Epoch 89, Loss: 0.2912153148995703\n",
      "Epoch 90, Loss: 0.29121519573794064\n",
      "Epoch 91, Loss: 0.29121507658351176\n",
      "Epoch 92, Loss: 0.2912149574362832\n",
      "Epoch 93, Loss: 0.29121483829625433\n",
      "Epoch 94, Loss: 0.2912147191634245\n",
      "Epoch 95, Loss: 0.29121460003779337\n",
      "Epoch 96, Loss: 0.2912144809193602\n",
      "Epoch 97, Loss: 0.29121436180812443\n",
      "Epoch 98, Loss: 0.2912142427040855\n",
      "Epoch 99, Loss: 0.29121412360724286\n"
     ]
    }
   ],
   "source": [
    "nn = NeuralNetwork(input_size=len(vocab), hidden_size=20, output_size=1)\n",
    "\n",
    "X_train = np.array([list(tf_idf.values()) for tf_idf in tf_idfs])\n",
    "\n",
    "Y_train = np.random.randint(0, 2, (1, len(tf_idfs)))\n",
    "\n",
    "nn.train(X_train.T, Y_train, epochs=100)"
   ]
  },
  {
   "cell_type": "code",
   "execution_count": 50,
   "metadata": {},
   "outputs": [],
   "source": [
    "test_documents = load_documents('C:\\\\Users\\\\AMEHMOOD\\\\Documents\\\\Repos\\\\programming_assignment_2\\\\data\\\\raw\\\\tweet\\\\test')"
   ]
  },
  {
   "cell_type": "code",
   "execution_count": 51,
   "metadata": {},
   "outputs": [],
   "source": [
    "test_tfs = [calculate_tf(document, vocab) for document in test_documents]\n",
    "\n",
    "\n",
    "test_tf_idfs = [calculate_tf_idf(tf, idf, vocab) for tf in test_tfs]"
   ]
  },
  {
   "cell_type": "code",
   "execution_count": 52,
   "metadata": {},
   "outputs": [],
   "source": [
    "X_test = np.array([list(tf_idf.values()) for tf_idf in test_tf_idfs])\n",
    "\n",
    "Y_test = np.random.randint(0, 2, (1, len(test_tf_idfs)))"
   ]
  },
  {
   "cell_type": "code",
   "execution_count": 53,
   "metadata": {},
   "outputs": [],
   "source": [
    "predictions = nn.predict(X_test.T)"
   ]
  },
  {
   "cell_type": "code",
   "execution_count": 54,
   "metadata": {},
   "outputs": [],
   "source": [
    "accuracy = accuracy_score(Y_test.flatten(), predictions.flatten())\n",
    "confusion_matrix = confusion_matrix(Y_test.flatten(), predictions.flatten())"
   ]
  },
  {
   "cell_type": "code",
   "execution_count": 58,
   "metadata": {},
   "outputs": [],
   "source": [
    "with open('C:\\\\Users\\\\AMEHMOOD\\\\Documents\\\\Repos\\\\programming_assignment_2\\\\reports\\\\sa_evaluation.log', 'w') as f:\n",
    "    f.write(f'Accuracy: {accuracy}\\n')\n",
    "    f.write(f'Confusion Matrix:\\n{confusion_matrix}\\n')"
   ]
  },
  {
   "cell_type": "code",
   "execution_count": 57,
   "metadata": {},
   "outputs": [],
   "source": [
    "with open('C:\\\\Users\\\\AMEHMOOD\\\\Documents\\\\Repos\\\\programming_assignment_2\\\\models\\\\trained_sa_nn.pkl', 'wb') as f:\n",
    "    pickle.dump(nn, f)"
   ]
  },
  {
   "cell_type": "code",
   "execution_count": null,
   "metadata": {},
   "outputs": [],
   "source": []
  }
 ],
 "metadata": {
  "kernelspec": {
   "display_name": "programming_assignment_2",
   "language": "python",
   "name": "python3"
  },
  "language_info": {
   "codemirror_mode": {
    "name": "ipython",
    "version": 3
   },
   "file_extension": ".py",
   "mimetype": "text/x-python",
   "name": "python",
   "nbconvert_exporter": "python",
   "pygments_lexer": "ipython3",
   "version": "3.10.14"
  }
 },
 "nbformat": 4,
 "nbformat_minor": 2
}
