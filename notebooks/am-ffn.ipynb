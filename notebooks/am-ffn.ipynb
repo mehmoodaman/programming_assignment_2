{
 "cells": [
  {
   "cell_type": "code",
   "execution_count": 1,
   "metadata": {},
   "outputs": [],
   "source": [
    "import os\n",
    "import re\n",
    "import string\n",
    "import nltk\n",
    "from nltk.corpus import stopwords\n",
    "from nltk.stem.porter import PorterStemmer\n",
    "from collections import Counter\n",
    "import math\n",
    "import numpy as np"
   ]
  },
  {
   "cell_type": "code",
   "execution_count": 2,
   "metadata": {},
   "outputs": [
    {
     "name": "stderr",
     "output_type": "stream",
     "text": [
      "[nltk_data] Downloading package stopwords to\n",
      "[nltk_data]     C:\\Users\\AMEHMOOD\\AppData\\Roaming\\nltk_data...\n",
      "[nltk_data]   Unzipping corpora\\stopwords.zip.\n"
     ]
    },
    {
     "data": {
      "text/plain": [
       "True"
      ]
     },
     "execution_count": 2,
     "metadata": {},
     "output_type": "execute_result"
    }
   ],
   "source": [
    "nltk.download('stopwords')"
   ]
  },
  {
   "cell_type": "code",
   "execution_count": 3,
   "metadata": {},
   "outputs": [],
   "source": [
    "stemmer = PorterStemmer()\n",
    "\n",
    "stop_words = set(stopwords.words('english'))\n",
    "\n",
    "emoticon_pattern = r'[:=;][oO\\-]?[D\\)\\]\\(\\]/\\\\OpP]'"
   ]
  },
  {
   "cell_type": "code",
   "execution_count": 4,
   "metadata": {},
   "outputs": [],
   "source": [
    "def process_text(text):\n",
    "    text = text.lower()\n",
    "    text = re.sub(r'<.*?>', '', text)\n",
    "    \n",
    "    words = re.split(r'\\W+', text)\n",
    "    words = [stemmer.stem(word) for word in words if word not in string.punctuation]\n",
    "    words = [word for word in words if word not in stop_words and not re.match(emoticon_pattern, word)]\n",
    "\n",
    "    return words"
   ]
  },
  {
   "cell_type": "code",
   "execution_count": 5,
   "metadata": {},
   "outputs": [],
   "source": [
    "def create_vocab(directory):\n",
    "    vocab = Counter()\n",
    "\n",
    "    for path, _, files in os.walk(directory):\n",
    "        for file in files:\n",
    "            with open(os.path.join(path, file), 'r') as f:\n",
    "                text = f.read()\n",
    "                words = process_text(text)\n",
    "                vocab.update(words)\n",
    "\n",
    "    return vocab"
   ]
  },
  {
   "cell_type": "code",
   "execution_count": 7,
   "metadata": {},
   "outputs": [],
   "source": [
    "vocab = create_vocab('C:\\\\Users\\\\AMEHMOOD\\\\Documents\\\\Repos\\\\programming_assignment_2\\\\data\\\\raw\\\\tweet\\\\train')"
   ]
  },
  {
   "cell_type": "code",
   "execution_count": 8,
   "metadata": {},
   "outputs": [],
   "source": [
    "def calculate_tf(document_words, vocab):\n",
    "    tf = dict.fromkeys(vocab, 0)\n",
    "    word_count = Counter(document_words)\n",
    "\n",
    "    for word, count in word_count.items():\n",
    "        if word in vocab:\n",
    "            tf[word] = count / len(document_words)\n",
    "\n",
    "    return tf"
   ]
  },
  {
   "cell_type": "code",
   "execution_count": 9,
   "metadata": {},
   "outputs": [],
   "source": [
    "def calculate_idf(documents, vocab):\n",
    "    N = len(documents)\n",
    "    idf = dict.fromkeys(vocab, 0)\n",
    "\n",
    "    for document in documents:\n",
    "        for word in vocab:\n",
    "            if word in document:\n",
    "                idf[word] += 1\n",
    "    \n",
    "    for word in vocab:\n",
    "        idf[word] = math.log(N / float(idf[word]))\n",
    "        \n",
    "    return idf"
   ]
  },
  {
   "cell_type": "code",
   "execution_count": 10,
   "metadata": {},
   "outputs": [],
   "source": [
    "def calculate_tf_idf(tf, idf, vocab):\n",
    "    tf_idf = dict.fromkeys(vocab, 0)\n",
    "\n",
    "    for word in vocab:\n",
    "        tf_idf[word] = tf[word] * idf[word]\n",
    "        \n",
    "    return tf_idf"
   ]
  },
  {
   "cell_type": "code",
   "execution_count": 11,
   "metadata": {},
   "outputs": [],
   "source": [
    "def load_documents(directory):\n",
    "    documents = []\n",
    "    \n",
    "    for path, _, files in os.walk(directory):\n",
    "        for file in files:\n",
    "            with open(os.path.join(path, file), 'r') as f:\n",
    "                text = f.read()\n",
    "                words = process_text(text)\n",
    "                documents.append(words)\n",
    "                \n",
    "    return documents"
   ]
  },
  {
   "cell_type": "code",
   "execution_count": 12,
   "metadata": {},
   "outputs": [],
   "source": [
    "documents = load_documents('C:\\\\Users\\\\AMEHMOOD\\\\Documents\\\\Repos\\\\programming_assignment_2\\\\data\\\\raw\\\\tweet\\\\train')"
   ]
  },
  {
   "cell_type": "code",
   "execution_count": 13,
   "metadata": {},
   "outputs": [],
   "source": [
    "tfs = [calculate_tf(document, vocab) for document in documents]\n",
    "\n",
    "idf = calculate_idf(documents, vocab)\n",
    "\n",
    "tf_idfs = [calculate_tf_idf(tf, idf, vocab) for tf in tfs]"
   ]
  },
  {
   "cell_type": "code",
   "execution_count": 14,
   "metadata": {},
   "outputs": [],
   "source": [
    "def sigmoid(x):\n",
    "    return 1 / (1 + np.exp(-x))\n",
    "\n",
    "def sigmoid_derivative(x):\n",
    "    return x * (1 - x)\n",
    "\n",
    "def mse(y_true, y_pred):\n",
    "    return np.mean(np.square(y_true - y_pred))\n",
    "\n",
    "def mse_derivative(y_true, y_pred):\n",
    "    return 2 * (y_pred - y_true) / y_true.size"
   ]
  },
  {
   "cell_type": "code",
   "execution_count": 15,
   "metadata": {},
   "outputs": [],
   "source": [
    "class NeuralNetwork:\n",
    "    def __init__(self, input_size, hidden_size, output_size):\n",
    "        self.W1 = np.random.randn(hidden_size, input_size)\n",
    "        self.b1 = np.zeros((hidden_size, 1))\n",
    "        self.W2 = np.random.randn(output_size, hidden_size)\n",
    "        self.b2 = np.zeros((output_size, 1))\n",
    "\n",
    "    def forward(self, X):\n",
    "        self.Z1 = np.dot(self.W1, X) + self.b1\n",
    "        self.A1 = sigmoid(self.Z1)\n",
    "        self.Z2 = np.dot(self.W2, self.A1) + self.b2\n",
    "        self.A2 = sigmoid(self.Z2)\n",
    "        return self.A2\n",
    "\n",
    "    def backward(self, X, Y, output, learning_rate=0.0001):\n",
    "        dZ2 = mse_derivative(Y, output) * sigmoid_derivative(output)\n",
    "        dW2 = np.dot(dZ2, self.A1.T)\n",
    "        db2 = np.sum(dZ2, axis=1, keepdims=True)\n",
    "        dZ1 = np.dot(self.W2.T, dZ2) * sigmoid_derivative(self.A1)\n",
    "        dW1 = np.dot(dZ1, X.T)\n",
    "        db1 = np.sum(dZ1, axis=1, keepdims=True)\n",
    "        \n",
    "        self.W1 -= learning_rate * dW1\n",
    "        self.b1 -= learning_rate * db1\n",
    "        self.W2 -= learning_rate * dW2\n",
    "        self.b2 -= learning_rate * db2\n",
    "\n",
    "    def train(self, X, Y, epochs):\n",
    "        for epoch in range(epochs):\n",
    "            output = self.forward(X)\n",
    "            loss = mse(Y, output)\n",
    "            print(f'Epoch {epoch}, Loss: {loss}')\n",
    "            self.backward(X, Y, output)"
   ]
  },
  {
   "cell_type": "code",
   "execution_count": 16,
   "metadata": {},
   "outputs": [
    {
     "name": "stdout",
     "output_type": "stream",
     "text": [
      "Epoch 0, Loss: 0.3088886520144359\n",
      "Epoch 1, Loss: 0.30888829530492456\n",
      "Epoch 2, Loss: 0.3088879386150266\n",
      "Epoch 3, Loss: 0.30888758194474114\n",
      "Epoch 4, Loss: 0.30888722529406704\n",
      "Epoch 5, Loss: 0.30888686866300313\n",
      "Epoch 6, Loss: 0.30888651205154866\n",
      "Epoch 7, Loss: 0.3088861554597023\n",
      "Epoch 8, Loss: 0.30888579888746315\n",
      "Epoch 9, Loss: 0.30888544233483006\n",
      "Epoch 10, Loss: 0.3088850858018021\n",
      "Epoch 11, Loss: 0.30888472928837807\n",
      "Epoch 12, Loss: 0.30888437279455705\n",
      "Epoch 13, Loss: 0.3088840163203379\n",
      "Epoch 14, Loss: 0.30888365986571964\n",
      "Epoch 15, Loss: 0.3088833034307012\n",
      "Epoch 16, Loss: 0.30888294701528146\n",
      "Epoch 17, Loss: 0.30888259061945944\n",
      "Epoch 18, Loss: 0.30888223424323413\n",
      "Epoch 19, Loss: 0.30888187788660443\n",
      "Epoch 20, Loss: 0.3088815215495692\n",
      "Epoch 21, Loss: 0.30888116523212755\n",
      "Epoch 22, Loss: 0.30888080893427833\n",
      "Epoch 23, Loss: 0.30888045265602054\n",
      "Epoch 24, Loss: 0.30888009639735303\n",
      "Epoch 25, Loss: 0.3088797401582749\n",
      "Epoch 26, Loss: 0.308879383938785\n",
      "Epoch 27, Loss: 0.3088790277388824\n",
      "Epoch 28, Loss: 0.30887867155856585\n",
      "Epoch 29, Loss: 0.3088783153978344\n",
      "Epoch 30, Loss: 0.308877959256687\n",
      "Epoch 31, Loss: 0.30887760313512275\n",
      "Epoch 32, Loss: 0.30887724703314035\n",
      "Epoch 33, Loss: 0.3088768909507388\n",
      "Epoch 34, Loss: 0.30887653488791716\n",
      "Epoch 35, Loss: 0.30887617884467433\n",
      "Epoch 36, Loss: 0.3088758228210093\n",
      "Epoch 37, Loss: 0.3088754668169209\n",
      "Epoch 38, Loss: 0.30887511083240826\n",
      "Epoch 39, Loss: 0.3088747548674701\n",
      "Epoch 40, Loss: 0.3088743989221056\n",
      "Epoch 41, Loss: 0.3088740429963136\n",
      "Epoch 42, Loss: 0.30887368709009305\n",
      "Epoch 43, Loss: 0.30887333120344296\n",
      "Epoch 44, Loss: 0.30887297533636215\n",
      "Epoch 45, Loss: 0.3088726194888497\n",
      "Epoch 46, Loss: 0.3088722636609045\n",
      "Epoch 47, Loss: 0.30887190785252555\n",
      "Epoch 48, Loss: 0.30887155206371175\n",
      "Epoch 49, Loss: 0.3088711962944621\n",
      "Epoch 50, Loss: 0.3088708405447755\n",
      "Epoch 51, Loss: 0.30887048481465085\n",
      "Epoch 52, Loss: 0.3088701291040872\n",
      "Epoch 53, Loss: 0.3088697734130835\n",
      "Epoch 54, Loss: 0.3088694177416387\n",
      "Epoch 55, Loss: 0.3088690620897517\n",
      "Epoch 56, Loss: 0.3088687064574214\n",
      "Epoch 57, Loss: 0.308868350844647\n",
      "Epoch 58, Loss: 0.30886799525142716\n",
      "Epoch 59, Loss: 0.30886763967776093\n",
      "Epoch 60, Loss: 0.30886728412364733\n",
      "Epoch 61, Loss: 0.30886692858908527\n",
      "Epoch 62, Loss: 0.30886657307407367\n",
      "Epoch 63, Loss: 0.30886621757861155\n",
      "Epoch 64, Loss: 0.30886586210269784\n",
      "Epoch 65, Loss: 0.30886550664633133\n",
      "Epoch 66, Loss: 0.30886515120951125\n",
      "Epoch 67, Loss: 0.30886479579223636\n",
      "Epoch 68, Loss: 0.30886444039450567\n",
      "Epoch 69, Loss: 0.3088640850163181\n",
      "Epoch 70, Loss: 0.3088637296576727\n",
      "Epoch 71, Loss: 0.3088633743185683\n",
      "Epoch 72, Loss: 0.3088630189990039\n",
      "Epoch 73, Loss: 0.3088626636989785\n",
      "Epoch 74, Loss: 0.308862308418491\n",
      "Epoch 75, Loss: 0.30886195315754034\n",
      "Epoch 76, Loss: 0.3088615979161254\n",
      "Epoch 77, Loss: 0.30886124269424536\n",
      "Epoch 78, Loss: 0.308860887491899\n",
      "Epoch 79, Loss: 0.3088605323090853\n",
      "Epoch 80, Loss: 0.30886017714580316\n",
      "Epoch 81, Loss: 0.30885982200205164\n",
      "Epoch 82, Loss: 0.3088594668778296\n",
      "Epoch 83, Loss: 0.30885911177313613\n",
      "Epoch 84, Loss: 0.30885875668796997\n",
      "Epoch 85, Loss: 0.3088584016223303\n",
      "Epoch 86, Loss: 0.30885804657621596\n",
      "Epoch 87, Loss: 0.30885769154962583\n",
      "Epoch 88, Loss: 0.30885733654255904\n",
      "Epoch 89, Loss: 0.3088569815550143\n",
      "Epoch 90, Loss: 0.3088566265869908\n",
      "Epoch 91, Loss: 0.3088562716384874\n",
      "Epoch 92, Loss: 0.308855916709503\n",
      "Epoch 93, Loss: 0.30885556180003665\n",
      "Epoch 94, Loss: 0.3088552069100872\n",
      "Epoch 95, Loss: 0.30885485203965374\n",
      "Epoch 96, Loss: 0.3088544971887351\n",
      "Epoch 97, Loss: 0.3088541423573303\n",
      "Epoch 98, Loss: 0.3088537875454382\n",
      "Epoch 99, Loss: 0.3088534327530578\n"
     ]
    }
   ],
   "source": [
    "# Initialize the neural network\n",
    "nn = NeuralNetwork(input_size=len(vocab), hidden_size=20, output_size=1)\n",
    "\n",
    "# Convert tf-idf vectors to numpy arrays\n",
    "X_train = np.array([list(tf_idf.values()) for tf_idf in tf_idfs])\n",
    "\n",
    "# Define labels\n",
    "Y_train = np.random.randint(0, 2, (1, len(tf_idfs)))\n",
    "\n",
    "# Train\n",
    "nn.train(X_train.T, Y_train, epochs=100)"
   ]
  },
  {
   "cell_type": "code",
   "execution_count": null,
   "metadata": {},
   "outputs": [],
   "source": []
  }
 ],
 "metadata": {
  "kernelspec": {
   "display_name": "programming_assignment_2",
   "language": "python",
   "name": "python3"
  },
  "language_info": {
   "codemirror_mode": {
    "name": "ipython",
    "version": 3
   },
   "file_extension": ".py",
   "mimetype": "text/x-python",
   "name": "python",
   "nbconvert_exporter": "python",
   "pygments_lexer": "ipython3",
   "version": "3.10.14"
  }
 },
 "nbformat": 4,
 "nbformat_minor": 2
}
