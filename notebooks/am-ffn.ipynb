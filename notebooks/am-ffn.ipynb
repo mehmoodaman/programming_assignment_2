{
 "cells": [
  {
   "cell_type": "code",
   "execution_count": 2,
   "metadata": {},
   "outputs": [],
   "source": [
    "import os\n",
    "import re\n",
    "import string\n",
    "import nltk\n",
    "from nltk.corpus import stopwords\n",
    "from nltk.stem.porter import PorterStemmer\n",
    "from collections import Counter\n",
    "import math\n",
    "import numpy as np\n",
    "from sklearn.metrics import confusion_matrix, accuracy_score\n",
    "import pickle"
   ]
  },
  {
   "cell_type": "code",
   "execution_count": 3,
   "metadata": {},
   "outputs": [
    {
     "name": "stderr",
     "output_type": "stream",
     "text": [
      "[nltk_data] Downloading package stopwords to\n",
      "[nltk_data]     /Users/amanmehmood/nltk_data...\n",
      "[nltk_data]   Package stopwords is already up-to-date!\n"
     ]
    },
    {
     "data": {
      "text/plain": [
       "True"
      ]
     },
     "execution_count": 3,
     "metadata": {},
     "output_type": "execute_result"
    }
   ],
   "source": [
    "nltk.download('stopwords')"
   ]
  },
  {
   "cell_type": "code",
   "execution_count": 4,
   "metadata": {},
   "outputs": [],
   "source": [
    "stemmer = PorterStemmer()\n",
    "\n",
    "stop_words = set(stopwords.words('english'))\n",
    "\n",
    "emoticon_pattern = r'[:=;][oO\\-]?[D\\)\\]\\(\\]/\\\\OpP]'"
   ]
  },
  {
   "cell_type": "code",
   "execution_count": 5,
   "metadata": {},
   "outputs": [],
   "source": [
    "def process_text(text):\n",
    "    text = text.lower()\n",
    "    text = re.sub(r'<.*?>', '', text)\n",
    "    \n",
    "    words = re.split(r'\\W+', text)\n",
    "    words = [stemmer.stem(word) for word in words if word not in string.punctuation]\n",
    "    words = [word for word in words if word not in stop_words and not re.match(emoticon_pattern, word)]\n",
    "\n",
    "    return words"
   ]
  },
  {
   "cell_type": "code",
   "execution_count": 6,
   "metadata": {},
   "outputs": [],
   "source": [
    "def create_vocab(directory):\n",
    "    vocab = Counter()\n",
    "\n",
    "    for path, _, files in os.walk(directory):\n",
    "        for file in files:\n",
    "            with open(os.path.join(path, file), 'r') as f:\n",
    "                text = f.read()\n",
    "                words = process_text(text)\n",
    "                vocab.update(words)\n",
    "\n",
    "    return vocab"
   ]
  },
  {
   "cell_type": "code",
   "execution_count": 10,
   "metadata": {},
   "outputs": [],
   "source": [
    "vocab = create_vocab('/Users/amanmehmood/AIT 726/programming_assignment_2/data/raw/tweet/train')"
   ]
  },
  {
   "cell_type": "code",
   "execution_count": 11,
   "metadata": {},
   "outputs": [],
   "source": [
    "def calculate_tf(document_words, vocab):\n",
    "    tf = dict.fromkeys(vocab, 0)\n",
    "    word_count = Counter(document_words)\n",
    "\n",
    "    for word, count in word_count.items():\n",
    "        if word in vocab:\n",
    "            tf[word] = count / len(document_words)\n",
    "\n",
    "    return tf"
   ]
  },
  {
   "cell_type": "code",
   "execution_count": 12,
   "metadata": {},
   "outputs": [],
   "source": [
    "def calculate_idf(documents, vocab):\n",
    "    N = len(documents)\n",
    "    idf = dict.fromkeys(vocab, 0)\n",
    "\n",
    "    for document in documents:\n",
    "        for word in vocab:\n",
    "            if word in document:\n",
    "                idf[word] += 1\n",
    "    \n",
    "    for word in vocab:\n",
    "        idf[word] = math.log(N / float(idf[word]))\n",
    "        \n",
    "    return idf"
   ]
  },
  {
   "cell_type": "code",
   "execution_count": 13,
   "metadata": {},
   "outputs": [],
   "source": [
    "def calculate_tf_idf(tf, idf, vocab):\n",
    "    tf_idf = dict.fromkeys(vocab, 0)\n",
    "\n",
    "    for word in vocab:\n",
    "        tf_idf[word] = tf[word] * idf[word]\n",
    "        \n",
    "    return tf_idf"
   ]
  },
  {
   "cell_type": "code",
   "execution_count": 14,
   "metadata": {},
   "outputs": [],
   "source": [
    "def load_documents(directory):\n",
    "    documents = []\n",
    "    \n",
    "    for path, _, files in os.walk(directory):\n",
    "        for file in files:\n",
    "            with open(os.path.join(path, file), 'r') as f:\n",
    "                text = f.read()\n",
    "                words = process_text(text)\n",
    "                documents.append(words)\n",
    "                \n",
    "    return documents"
   ]
  },
  {
   "cell_type": "code",
   "execution_count": 15,
   "metadata": {},
   "outputs": [],
   "source": [
    "documents = load_documents('/Users/amanmehmood/AIT 726/programming_assignment_2/data/raw/tweet/train')"
   ]
  },
  {
   "cell_type": "code",
   "execution_count": 16,
   "metadata": {},
   "outputs": [],
   "source": [
    "tfs = [calculate_tf(document, vocab) for document in documents]\n",
    "\n",
    "idf = calculate_idf(documents, vocab)\n",
    "\n",
    "tf_idfs = [calculate_tf_idf(tf, idf, vocab) for tf in tfs]"
   ]
  },
  {
   "cell_type": "code",
   "execution_count": 17,
   "metadata": {},
   "outputs": [],
   "source": [
    "def sigmoid(x):\n",
    "    return 1 / (1 + np.exp(-x))\n",
    "\n",
    "def sigmoid_derivative(x):\n",
    "    return x * (1 - x)\n",
    "\n",
    "def mse(y_true, y_pred):\n",
    "    return np.mean(np.square(y_true - y_pred))\n",
    "\n",
    "def mse_derivative(y_true, y_pred):\n",
    "    return 2 * (y_pred - y_true) / y_true.size"
   ]
  },
  {
   "cell_type": "code",
   "execution_count": 18,
   "metadata": {},
   "outputs": [],
   "source": [
    "class NeuralNetwork:\n",
    "    def __init__(self, input_size, hidden_size, output_size):\n",
    "        self.W1 = np.random.randn(hidden_size, input_size)\n",
    "        self.b1 = np.zeros((hidden_size, 1))\n",
    "        self.W2 = np.random.randn(output_size, hidden_size)\n",
    "        self.b2 = np.zeros((output_size, 1))\n",
    "\n",
    "    def forward(self, X):\n",
    "        self.Z1 = np.dot(self.W1, X) + self.b1\n",
    "        self.A1 = sigmoid(self.Z1)\n",
    "        self.Z2 = np.dot(self.W2, self.A1) + self.b2\n",
    "        self.A2 = sigmoid(self.Z2)\n",
    "        return self.A2\n",
    "\n",
    "    def backward(self, X, Y, output, learning_rate=0.0001):\n",
    "        dZ2 = mse_derivative(Y, output) * sigmoid_derivative(output)\n",
    "        dW2 = np.dot(dZ2, self.A1.T)\n",
    "        db2 = np.sum(dZ2, axis=1, keepdims=True)\n",
    "        dZ1 = np.dot(self.W2.T, dZ2) * sigmoid_derivative(self.A1)\n",
    "        dW1 = np.dot(dZ1, X.T)\n",
    "        db1 = np.sum(dZ1, axis=1, keepdims=True)\n",
    "        \n",
    "        self.W1 -= learning_rate * dW1\n",
    "        self.b1 -= learning_rate * db1\n",
    "        self.W2 -= learning_rate * dW2\n",
    "        self.b2 -= learning_rate * db2\n",
    "\n",
    "    def train(self, X, Y, epochs):\n",
    "        for epoch in range(epochs):\n",
    "            output = self.forward(X)\n",
    "            loss = mse(Y, output)\n",
    "            print(f'Epoch {epoch}, Loss: {loss}')\n",
    "            self.backward(X, Y, output)\n",
    "\n",
    "    def predict(self, X):\n",
    "        output = self.forward(X)\n",
    "        return (output > 0.5).astype(int)"
   ]
  },
  {
   "cell_type": "code",
   "execution_count": 19,
   "metadata": {},
   "outputs": [
    {
     "name": "stdout",
     "output_type": "stream",
     "text": [
      "Epoch 0, Loss: 0.3253301769055179\n",
      "Epoch 1, Loss: 0.3253274401374648\n",
      "Epoch 2, Loss: 0.3253247034620452\n",
      "Epoch 3, Loss: 0.32532196687926457\n",
      "Epoch 4, Loss: 0.3253192303891283\n",
      "Epoch 5, Loss: 0.325316493991642\n",
      "Epoch 6, Loss: 0.32531375768681103\n",
      "Epoch 7, Loss: 0.325311021474641\n",
      "Epoch 8, Loss: 0.32530828535513723\n",
      "Epoch 9, Loss: 0.3253055493283053\n",
      "Epoch 10, Loss: 0.3253028133941505\n",
      "Epoch 11, Loss: 0.3253000775526784\n",
      "Epoch 12, Loss: 0.3252973418038946\n",
      "Epoch 13, Loss: 0.3252946061478043\n",
      "Epoch 14, Loss: 0.32529187058441317\n",
      "Epoch 15, Loss: 0.3252891351137265\n",
      "Epoch 16, Loss: 0.3252863997357498\n",
      "Epoch 17, Loss: 0.3252836644504886\n",
      "Epoch 18, Loss: 0.3252809292579483\n",
      "Epoch 19, Loss: 0.3252781941581344\n",
      "Epoch 20, Loss: 0.32527545915105227\n",
      "Epoch 21, Loss: 0.32527272423670744\n",
      "Epoch 22, Loss: 0.32526998941510527\n",
      "Epoch 23, Loss: 0.32526725468625134\n",
      "Epoch 24, Loss: 0.325264520050151\n",
      "Epoch 25, Loss: 0.3252617855068097\n",
      "Epoch 26, Loss: 0.325259051056233\n",
      "Epoch 27, Loss: 0.32525631669842614\n",
      "Epoch 28, Loss: 0.3252535824333948\n",
      "Epoch 29, Loss: 0.3252508482611443\n",
      "Epoch 30, Loss: 0.3252481141816801\n",
      "Epoch 31, Loss: 0.32524538019500765\n",
      "Epoch 32, Loss: 0.32524264630113237\n",
      "Epoch 33, Loss: 0.32523991250005974\n",
      "Epoch 34, Loss: 0.32523717879179515\n",
      "Epoch 35, Loss: 0.3252344451763441\n",
      "Epoch 36, Loss: 0.325231711653712\n",
      "Epoch 37, Loss: 0.32522897822390434\n",
      "Epoch 38, Loss: 0.32522624488692653\n",
      "Epoch 39, Loss: 0.3252235116427839\n",
      "Epoch 40, Loss: 0.325220778491482\n",
      "Epoch 41, Loss: 0.3252180454330262\n",
      "Epoch 42, Loss: 0.3252153124674221\n",
      "Epoch 43, Loss: 0.3252125795946749\n",
      "Epoch 44, Loss: 0.3252098468147902\n",
      "Epoch 45, Loss: 0.3252071141277733\n",
      "Epoch 46, Loss: 0.32520438153362974\n",
      "Epoch 47, Loss: 0.3252016490323649\n",
      "Epoch 48, Loss: 0.32519891662398426\n",
      "Epoch 49, Loss: 0.3251961843084932\n",
      "Epoch 50, Loss: 0.32519345208589717\n",
      "Epoch 51, Loss: 0.3251907199562016\n",
      "Epoch 52, Loss: 0.3251879879194119\n",
      "Epoch 53, Loss: 0.3251852559755333\n",
      "Epoch 54, Loss: 0.32518252412457166\n",
      "Epoch 55, Loss: 0.32517979236653205\n",
      "Epoch 56, Loss: 0.32517706070142005\n",
      "Epoch 57, Loss: 0.32517432912924094\n",
      "Epoch 58, Loss: 0.3251715976500003\n",
      "Epoch 59, Loss: 0.32516886626370345\n",
      "Epoch 60, Loss: 0.325166134970356\n",
      "Epoch 61, Loss: 0.32516340376996294\n",
      "Epoch 62, Loss: 0.3251606726625301\n",
      "Epoch 63, Loss: 0.3251579416480627\n",
      "Epoch 64, Loss: 0.32515521072656633\n",
      "Epoch 65, Loss: 0.3251524798980462\n",
      "Epoch 66, Loss: 0.3251497491625078\n",
      "Epoch 67, Loss: 0.3251470185199565\n",
      "Epoch 68, Loss: 0.3251442879703978\n",
      "Epoch 69, Loss: 0.32514155751383705\n",
      "Epoch 70, Loss: 0.3251388271502797\n",
      "Epoch 71, Loss: 0.3251360968797311\n",
      "Epoch 72, Loss: 0.3251333667021966\n",
      "Epoch 73, Loss: 0.32513063661768177\n",
      "Epoch 74, Loss: 0.325127906626192\n",
      "Epoch 75, Loss: 0.3251251767277326\n",
      "Epoch 76, Loss: 0.32512244692230907\n",
      "Epoch 77, Loss: 0.3251197172099267\n",
      "Epoch 78, Loss: 0.325116987590591\n",
      "Epoch 79, Loss: 0.3251142580643072\n",
      "Epoch 80, Loss: 0.32511152863108095\n",
      "Epoch 81, Loss: 0.32510879929091735\n",
      "Epoch 82, Loss: 0.3251060700438221\n",
      "Epoch 83, Loss: 0.3251033408898004\n",
      "Epoch 84, Loss: 0.3251006118288578\n",
      "Epoch 85, Loss: 0.32509788286099955\n",
      "Epoch 86, Loss: 0.3250951539862311\n",
      "Epoch 87, Loss: 0.3250924252045579\n",
      "Epoch 88, Loss: 0.32508969651598524\n",
      "Epoch 89, Loss: 0.3250869679205186\n",
      "Epoch 90, Loss: 0.3250842394181633\n",
      "Epoch 91, Loss: 0.32508151100892474\n",
      "Epoch 92, Loss: 0.3250787826928084\n",
      "Epoch 93, Loss: 0.3250760544698196\n",
      "Epoch 94, Loss: 0.32507332633996366\n",
      "Epoch 95, Loss: 0.3250705983032461\n",
      "Epoch 96, Loss: 0.3250678703596722\n",
      "Epoch 97, Loss: 0.32506514250924745\n",
      "Epoch 98, Loss: 0.3250624147519772\n",
      "Epoch 99, Loss: 0.32505968708786676\n"
     ]
    }
   ],
   "source": [
    "nn = NeuralNetwork(input_size=len(vocab), hidden_size=20, output_size=1)\n",
    "\n",
    "X_train = np.array([list(tf_idf.values()) for tf_idf in tf_idfs])\n",
    "\n",
    "Y_train = np.random.randint(0, 2, (1, len(tf_idfs)))\n",
    "\n",
    "nn.train(X_train.T, Y_train, epochs=100)"
   ]
  },
  {
   "cell_type": "code",
   "execution_count": 20,
   "metadata": {},
   "outputs": [],
   "source": [
    "test_documents = load_documents('/Users/amanmehmood/AIT 726/programming_assignment_2/data/raw/tweet/test')"
   ]
  },
  {
   "cell_type": "code",
   "execution_count": 21,
   "metadata": {},
   "outputs": [],
   "source": [
    "test_tfs = [calculate_tf(document, vocab) for document in test_documents]\n",
    "\n",
    "\n",
    "test_tf_idfs = [calculate_tf_idf(tf, idf, vocab) for tf in test_tfs]"
   ]
  },
  {
   "cell_type": "code",
   "execution_count": 22,
   "metadata": {},
   "outputs": [],
   "source": [
    "X_test = np.array([list(tf_idf.values()) for tf_idf in test_tf_idfs])\n",
    "\n",
    "Y_test = np.random.randint(0, 2, (1, len(test_tf_idfs)))"
   ]
  },
  {
   "cell_type": "code",
   "execution_count": 23,
   "metadata": {},
   "outputs": [],
   "source": [
    "predictions = nn.predict(X_test.T)"
   ]
  },
  {
   "cell_type": "code",
   "execution_count": 24,
   "metadata": {},
   "outputs": [],
   "source": [
    "accuracy = accuracy_score(Y_test.flatten(), predictions.flatten())\n",
    "confusion_matrix = confusion_matrix(Y_test.flatten(), predictions.flatten())"
   ]
  },
  {
   "cell_type": "code",
   "execution_count": 25,
   "metadata": {},
   "outputs": [],
   "source": [
    "with open('/Users/amanmehmood/AIT 726/programming_assignment_2/reports/sa_evaluation.log', 'w') as f:\n",
    "    f.write(f'Accuracy: {accuracy}\\n')\n",
    "    f.write(f'Confusion Matrix:\\n{confusion_matrix}\\n')"
   ]
  },
  {
   "cell_type": "code",
   "execution_count": 57,
   "metadata": {},
   "outputs": [],
   "source": [
    "with open('C:\\\\Users\\\\AMEHMOOD\\\\Documents\\\\Repos\\\\programming_assignment_2\\\\models\\\\trained_sa_nn.pkl', 'wb') as f:\n",
    "    pickle.dump(nn, f)"
   ]
  },
  {
   "cell_type": "code",
   "execution_count": null,
   "metadata": {},
   "outputs": [],
   "source": []
  }
 ],
 "metadata": {
  "kernelspec": {
   "display_name": "programming_assignment_2",
   "language": "python",
   "name": "python3"
  },
  "language_info": {
   "codemirror_mode": {
    "name": "ipython",
    "version": 3
   },
   "file_extension": ".py",
   "mimetype": "text/x-python",
   "name": "python",
   "nbconvert_exporter": "python",
   "pygments_lexer": "ipython3",
   "version": "3.10.14"
  }
 },
 "nbformat": 4,
 "nbformat_minor": 2
}
